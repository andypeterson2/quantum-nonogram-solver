{
 "cells": [
  {
   "cell_type": "markdown",
   "id": "e1c1bf70-7f67-438a-b7ac-539165b60efc",
   "metadata": {
    "tags": []
   },
   "source": [
    "# Initialization"
   ]
  },
  {
   "cell_type": "markdown",
   "id": "7c1ed02c-d239-4bf4-b1ff-8cd90128a255",
   "metadata": {
    "tags": []
   },
   "source": [
    "## Imports"
   ]
  },
  {
   "cell_type": "code",
   "execution_count": 1,
   "id": "3e8739e4-6645-4695-8a01-22b134b9eeab",
   "metadata": {
    "tags": []
   },
   "outputs": [
    {
     "name": "stdout",
     "output_type": "stream",
     "text": [
      "Tweedledum library is installed.\n"
     ]
    }
   ],
   "source": [
    "import sys\n",
    "import platform\n",
    "\n",
    "try:\n",
    "    import tweedledum\n",
    "    print(\"Tweedledum library is installed.\")\n",
    "except ImportError:\n",
    "    if platform.system() == 'Darwin':\n",
    "        print(\"Tweedledum library is not installed and your system (MacOS) is not compatible with this program.\")\n",
    "    else:\n",
    "        print(\"Tweedledum library is not installed.\")"
   ]
  },
  {
   "cell_type": "markdown",
   "id": "618fc9fd-fb60-4932-b0f5-2e40b8648ed9",
   "metadata": {
    "tags": []
   },
   "source": [
    "## Nonogram Code"
   ]
  },
  {
   "cell_type": "code",
   "execution_count": 2,
   "id": "6d6686b9-3483-49fa-9d41-a14979041da4",
   "metadata": {
    "tags": []
   },
   "outputs": [],
   "source": [
    "from src.models.nonogrambuilder import NonogramBuilder\n",
    "from src.algs.algorithm import Algorithm\n",
    "from src.algs.puzzle_solver import PuzzleSolver\n",
    "\n",
    "import time\n",
    "import matplotlib.pyplot as plt\n",
    "import matplotlib as mpl\n",
    "from qiskit.visualization import plot_histogram"
   ]
  },
  {
   "cell_type": "markdown",
   "id": "9429f1d3-c7b6-4146-aa73-5aab7899c253",
   "metadata": {},
   "source": [
    "# Driver Code"
   ]
  },
  {
   "cell_type": "code",
   "execution_count": 3,
   "id": "b54c4845-ccb0-489a-bb2b-9f189861d1f0",
   "metadata": {
    "tags": []
   },
   "outputs": [],
   "source": [
    "rows = 3\n",
    "columns = 3\n",
    "\n",
    "builder1 = NonogramBuilder()\n",
    "puzzle1 = builder1.with_size(3,3).build()"
   ]
  },
  {
   "cell_type": "code",
   "execution_count": 9,
   "id": "2e2bb8ba-f478-40ca-bfcb-c2c023be52c2",
   "metadata": {},
   "outputs": [],
   "source": [
    "row_clues = [[3],[3],[2]]\n",
    "col_clues = [[3],[3],[2]]\n",
    "\n",
    "builder2 = NonogramBuilder()\n",
    "puzzle2 = builder2.with_clues(row_clues, col_clues).build()"
   ]
  },
  {
   "cell_type": "code",
   "execution_count": 5,
   "id": "7f8fcd09-5fd7-4ff2-a493-2d4b03e753d5",
   "metadata": {},
   "outputs": [],
   "source": [
    "cells = [[True,False,True],[False,False,False],[True,False,False]]\n",
    "\n",
    "builder3 = NonogramBuilder()\n",
    "puzzle3 = builder3.with_cells(cells).build()"
   ]
  },
  {
   "cell_type": "code",
   "execution_count": 6,
   "id": "a23e3256-af44-4993-834f-303a2668f268",
   "metadata": {},
   "outputs": [],
   "source": [
    "c = PuzzleSolver(puzzle1, 'classical')"
   ]
  },
  {
   "cell_type": "code",
   "execution_count": 10,
   "id": "4348cb86-ab61-42cc-9e6d-0bcb958c192b",
   "metadata": {},
   "outputs": [],
   "source": [
    "q = PuzzleSolver(puzzle2, 'quantum')"
   ]
  },
  {
   "cell_type": "code",
   "execution_count": 11,
   "id": "539d472b-9f73-4bfe-a96f-92528b863af8",
   "metadata": {},
   "outputs": [
    {
     "data": {
      "text/plain": [
       "'011111111'"
      ]
     },
     "execution_count": 11,
     "metadata": {},
     "output_type": "execute_result"
    }
   ],
   "source": [
    "q.solve()"
   ]
  }
 ],
 "metadata": {
  "kernelspec": {
   "display_name": "Python 3 (ipykernel)",
   "language": "python",
   "name": "python3"
  },
  "language_info": {
   "codemirror_mode": {
    "name": "ipython",
    "version": 3
   },
   "file_extension": ".py",
   "mimetype": "text/x-python",
   "name": "python",
   "nbconvert_exporter": "python",
   "pygments_lexer": "ipython3",
   "version": "3.8.16"
  }
 },
 "nbformat": 4,
 "nbformat_minor": 5
}
