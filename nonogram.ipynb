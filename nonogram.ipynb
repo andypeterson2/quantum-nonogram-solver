{
 "cells": [
  {
   "cell_type": "markdown",
   "id": "e1c1bf70-7f67-438a-b7ac-539165b60efc",
   "metadata": {
    "tags": []
   },
   "source": [
    "# Initialization"
   ]
  },
  {
   "cell_type": "code",
   "execution_count": 1,
   "id": "6d6686b9-3483-49fa-9d41-a14979041da4",
   "metadata": {
    "tags": []
   },
   "outputs": [],
   "source": [
    "import time\n",
    "import matplotlib.pyplot as plt\n",
    "import matplotlib as mpl\n",
    "from qiskit.visualization import plot_histogram\n",
    "from src.benchmarking.benchmark import TimeBenchmark\n",
    "import sqlite3\n",
    "from src.models.nonogrambuilder import NonogramBuilder\n",
    "from src.algs.solver import Solver\n",
    "from src.benchmarking.database import MetricsDatabase\n",
    "import time"
   ]
  },
  {
   "cell_type": "markdown",
   "id": "9429f1d3-c7b6-4146-aa73-5aab7899c253",
   "metadata": {},
   "source": [
    "# Driver Code"
   ]
  },
  {
   "cell_type": "code",
   "execution_count": 2,
   "id": "2d46d2b6-e459-423e-8b54-40080cf9a400",
   "metadata": {},
   "outputs": [],
   "source": [
    "# class SQLite():\n",
    "#     def __init__(self, file=':memory:'):\n",
    "#         self.file=file\n",
    "#     def __enter__(self):\n",
    "#         self.conn = sqlite3.connect(self.file)\n",
    "#         self.conn.row_factory = sqlite3.Row\n",
    "#         return self.conn.cursor()\n",
    "#     def __exit__(self, type, value, traceback):\n",
    "#         self.conn.commit()\n",
    "#         self.conn.close()\n",
    "\n",
    "# with SQLite('metrics.db') as cur:\n",
    "#     print(cur.execute('select sqlite_version();').fetchall()[0][0])"
   ]
  },
  {
   "cell_type": "code",
   "execution_count": 3,
   "id": "5bbeeec5-f2fb-4c79-a4a0-eba2565d82f3",
   "metadata": {},
   "outputs": [],
   "source": [
    "file = 'metrics.db'\n",
    "db = MetricsDatabase(file)"
   ]
  },
  {
   "cell_type": "code",
   "execution_count": 4,
   "id": "e548e4e7-a338-4fcf-9af1-80fde5fdce75",
   "metadata": {},
   "outputs": [
    {
     "name": "stdout",
     "output_type": "stream",
     "text": [
      "2.6.0\n",
      "Please wait, this may take a while\n",
      "init for #0(3x3) took 1.1350889205932617\n"
     ]
    },
    {
     "ename": "AttributeError",
     "evalue": "module 'qiskit_aer' has no attribute 'Aer'",
     "output_type": "error",
     "traceback": [
      "\u001b[0;31m---------------------------------------------------------------------------\u001b[0m",
      "\u001b[0;31mAttributeError\u001b[0m                            Traceback (most recent call last)",
      "Cell \u001b[0;32mIn[4], line 11\u001b[0m\n\u001b[1;32m      9\u001b[0m \u001b[38;5;28mprint\u001b[39m(\u001b[38;5;124mf\u001b[39m\u001b[38;5;124m\"\u001b[39m\u001b[38;5;124minit for #\u001b[39m\u001b[38;5;132;01m{\u001b[39;00m_\u001b[38;5;132;01m}\u001b[39;00m\u001b[38;5;124m(\u001b[39m\u001b[38;5;132;01m{\u001b[39;00mrows\u001b[38;5;132;01m}\u001b[39;00m\u001b[38;5;124mx\u001b[39m\u001b[38;5;132;01m{\u001b[39;00mcolumns\u001b[38;5;132;01m}\u001b[39;00m\u001b[38;5;124m) took \u001b[39m\u001b[38;5;132;01m{\u001b[39;00mtime\u001b[38;5;241m.\u001b[39mtime()\u001b[38;5;250m \u001b[39m\u001b[38;5;241m-\u001b[39m\u001b[38;5;250m \u001b[39mstart\u001b[38;5;132;01m}\u001b[39;00m\u001b[38;5;124m\"\u001b[39m)\n\u001b[1;32m     10\u001b[0m benchmark \u001b[38;5;241m=\u001b[39m TimeBenchmark(solver)\n\u001b[0;32m---> 11\u001b[0m results \u001b[38;5;241m=\u001b[39m \u001b[43mbenchmark\u001b[49m\u001b[38;5;241;43m.\u001b[39;49m\u001b[43mrun\u001b[49m\u001b[43m(\u001b[49m\u001b[43museGPU\u001b[49m\u001b[43m \u001b[49m\u001b[38;5;241;43m=\u001b[39;49m\u001b[43m \u001b[49m\u001b[38;5;28;43;01mTrue\u001b[39;49;00m\u001b[43m)\u001b[49m\n\u001b[1;32m     12\u001b[0m db\u001b[38;5;241m.\u001b[39mcreate_benchmark_metrics(results)\n",
      "File \u001b[0;32m/mnt/c/Users/radic_acpeters/Desktop/quantum-nonogram-solver/src/benchmarking/benchmark.py:16\u001b[0m, in \u001b[0;36mTimeBenchmark.run\u001b[0;34m(self, useGPU)\u001b[0m\n\u001b[1;32m     14\u001b[0m \u001b[38;5;28;01mdef\u001b[39;00m \u001b[38;5;21mrun\u001b[39m(\u001b[38;5;28mself\u001b[39m, useGPU):\n\u001b[1;32m     15\u001b[0m     start_time \u001b[38;5;241m=\u001b[39m time\u001b[38;5;241m.\u001b[39mtime()\n\u001b[0;32m---> 16\u001b[0m     steps, _, gates \u001b[38;5;241m=\u001b[39m \u001b[38;5;28;43mself\u001b[39;49m\u001b[38;5;241;43m.\u001b[39;49m\u001b[43msolver\u001b[49m\u001b[38;5;241;43m.\u001b[39;49m\u001b[43msolve\u001b[49m\u001b[43m(\u001b[49m\u001b[43museGPU\u001b[49m\u001b[43m)\u001b[49m\n\u001b[1;32m     17\u001b[0m     end_time \u001b[38;5;241m=\u001b[39m time\u001b[38;5;241m.\u001b[39mtime()\n\u001b[1;32m     18\u001b[0m     time_taken \u001b[38;5;241m=\u001b[39m end_time \u001b[38;5;241m-\u001b[39m start_time\n",
      "File \u001b[0;32m/mnt/c/Users/radic_acpeters/Desktop/quantum-nonogram-solver/src/algs/solver.py:9\u001b[0m, in \u001b[0;36mSolver.solve\u001b[0;34m(self, useGPU)\u001b[0m\n\u001b[1;32m      8\u001b[0m \u001b[38;5;28;01mdef\u001b[39;00m \u001b[38;5;21msolve\u001b[39m(\u001b[38;5;28mself\u001b[39m, useGPU\u001b[38;5;241m=\u001b[39m\u001b[38;5;28;01mFalse\u001b[39;00m):\n\u001b[0;32m----> 9\u001b[0m     \u001b[38;5;28;01mreturn\u001b[39;00m \u001b[38;5;28;43mself\u001b[39;49m\u001b[38;5;241;43m.\u001b[39;49m\u001b[43malgorithm\u001b[49m\u001b[38;5;241;43m.\u001b[39;49m\u001b[43msolve\u001b[49m\u001b[43m(\u001b[49m\u001b[43museGPU\u001b[49m\u001b[43m)\u001b[49m\n",
      "File \u001b[0;32m/mnt/c/Users/radic_acpeters/Desktop/quantum-nonogram-solver/src/algs/quantum.py:53\u001b[0m, in \u001b[0;36mQuantum.solve\u001b[0;34m(self, useGPU)\u001b[0m\n\u001b[1;32m     52\u001b[0m \u001b[38;5;28;01mdef\u001b[39;00m \u001b[38;5;21msolve\u001b[39m(\u001b[38;5;28mself\u001b[39m, useGPU):\n\u001b[0;32m---> 53\u001b[0m     backend \u001b[38;5;241m=\u001b[39m \u001b[43mAer\u001b[49m\u001b[38;5;241;43m.\u001b[39;49m\u001b[43mget_backend\u001b[49m(\u001b[38;5;124m'\u001b[39m\u001b[38;5;124maer_simulator\u001b[39m\u001b[38;5;124m'\u001b[39m)\n\u001b[1;32m     54\u001b[0m     \u001b[38;5;28;01mif\u001b[39;00m useGPU:\n\u001b[1;32m     55\u001b[0m         backend\u001b[38;5;241m.\u001b[39mset_options(device\u001b[38;5;241m=\u001b[39m\u001b[38;5;124m'\u001b[39m\u001b[38;5;124mGPU\u001b[39m\u001b[38;5;124m'\u001b[39m)\n",
      "File \u001b[0;32m~/miniconda3/envs/QiskitTDFix/lib/python3.8/site-packages/qiskit/__init__.py:134\u001b[0m, in \u001b[0;36mAerWrapper.__getattr__\u001b[0;34m(self, attr)\u001b[0m\n\u001b[1;32m    131\u001b[0m \u001b[38;5;28;01mtry\u001b[39;00m:\n\u001b[1;32m    132\u001b[0m     \u001b[38;5;28;01mfrom\u001b[39;00m \u001b[38;5;21;01mqiskit\u001b[39;00m\u001b[38;5;21;01m.\u001b[39;00m\u001b[38;5;21;01mproviders\u001b[39;00m \u001b[38;5;28;01mimport\u001b[39;00m aer\n\u001b[0;32m--> 134\u001b[0m     \u001b[38;5;28mself\u001b[39m\u001b[38;5;241m.\u001b[39maer \u001b[38;5;241m=\u001b[39m \u001b[43maer\u001b[49m\u001b[38;5;241;43m.\u001b[39;49m\u001b[43mAer\u001b[49m\n\u001b[1;32m    135\u001b[0m     warnings\u001b[38;5;241m.\u001b[39mwarn(\n\u001b[1;32m    136\u001b[0m         \u001b[38;5;124m\"\u001b[39m\u001b[38;5;124mThe qiskit.Aer entry point will be deprecated in a future release and \u001b[39m\u001b[38;5;124m\"\u001b[39m\n\u001b[1;32m    137\u001b[0m         \u001b[38;5;124m\"\u001b[39m\u001b[38;5;124msubsequently removed. Instead you should use this \u001b[39m\u001b[38;5;124m\"\u001b[39m\n\u001b[0;32m   (...)\u001b[0m\n\u001b[1;32m    140\u001b[0m         stacklevel\u001b[38;5;241m=\u001b[39m\u001b[38;5;241m2\u001b[39m,\n\u001b[1;32m    141\u001b[0m     )\n\u001b[1;32m    142\u001b[0m \u001b[38;5;28;01mexcept\u001b[39;00m \u001b[38;5;167;01mImportError\u001b[39;00m \u001b[38;5;28;01mas\u001b[39;00m ex:\n",
      "\u001b[0;31mAttributeError\u001b[0m: module 'qiskit_aer' has no attribute 'Aer'"
     ]
    }
   ],
   "source": [
    "for _ in range(5000):\n",
    "    columns = 3\n",
    "    rows = 3\n",
    "    algorithm = 'quantum'\n",
    "    builder = NonogramBuilder()\n",
    "    random_nonogram = builder.with_size(rows, columns).build()\n",
    "    start = time.time()\n",
    "    solver = Solver(random_nonogram, algorithm)\n",
    "    print(f\"init for #{_}({rows}x{columns}) took {time.time() - start}\")\n",
    "    benchmark = TimeBenchmark(solver)\n",
    "    results = benchmark.run(useGPU = True)\n",
    "    db.create_benchmark_metrics(results)"
   ]
  },
  {
   "cell_type": "code",
   "execution_count": null,
   "id": "7f8e1c9e-3aee-493d-8b11-6cc2be6100c2",
   "metadata": {},
   "outputs": [],
   "source": [
    "\n",
    "import time\n",
    "for columns in range(3,5):\n",
    "    for rows in range(1,5):\n",
    "        builder = NonogramBuilder()\n",
    "        random_nonogram = builder.with_size(rows,columns).build()\n",
    "        start = time.time()\n",
    "        q = Solver(random_nonogram, 'quantum' )\n",
    "        print(f\"init for {rows}x{columns} took {time.time() - start}\")\n",
    "        b = TimeBenchmark(q)\n",
    "        print(b.run())"
   ]
  }
 ],
 "metadata": {
  "kernelspec": {
   "display_name": "Python 3 (ipykernel)",
   "language": "python",
   "name": "python3"
  },
  "language_info": {
   "codemirror_mode": {
    "name": "ipython",
    "version": 3
   },
   "file_extension": ".py",
   "mimetype": "text/x-python",
   "name": "python",
   "nbconvert_exporter": "python",
   "pygments_lexer": "ipython3",
   "version": "3.8.16"
  }
 },
 "nbformat": 4,
 "nbformat_minor": 5
}
