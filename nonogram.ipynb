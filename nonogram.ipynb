{
 "cells": [
  {
   "cell_type": "markdown",
   "id": "e1c1bf70-7f67-438a-b7ac-539165b60efc",
   "metadata": {
    "tags": []
   },
   "source": [
    "# Initialization"
   ]
  },
  {
   "cell_type": "markdown",
   "id": "7c1ed02c-d239-4bf4-b1ff-8cd90128a255",
   "metadata": {
    "tags": []
   },
   "source": [
    "## Imports"
   ]
  },
  {
   "cell_type": "code",
   "execution_count": 1,
   "id": "3e8739e4-6645-4695-8a01-22b134b9eeab",
   "metadata": {
    "tags": []
   },
   "outputs": [
    {
     "name": "stdout",
     "output_type": "stream",
     "text": [
      "Tweedledum library is not installed and your system (MacOS) is not compatible with this program.\n"
     ]
    }
   ],
   "source": [
    "import sys\n",
    "import platform\n",
    "\n",
    "try:\n",
    "    import tweedledum\n",
    "    print(\"Tweedledum library is installed.\")\n",
    "except ImportError:\n",
    "    if platform.system() == 'Darwin':\n",
    "        print(\"Tweedledum library is not installed and your system (MacOS) is not compatible with this program.\")\n",
    "    else:\n",
    "        print(\"Tweedledum library is not installed.\")"
   ]
  },
  {
   "cell_type": "markdown",
   "id": "618fc9fd-fb60-4932-b0f5-2e40b8648ed9",
   "metadata": {
    "tags": []
   },
   "source": [
    "## Nonogram Code"
   ]
  },
  {
   "cell_type": "code",
   "execution_count": 2,
   "id": "6d6686b9-3483-49fa-9d41-a14979041da4",
   "metadata": {
    "tags": []
   },
   "outputs": [],
   "source": [
    "import time\n",
    "from src.algs import Classical, Quantum\n",
    "from src.nonogram import Nonogram\n",
    "from abc import ABC, abstractmethod\n",
    "import matplotlib.pyplot as plt\n",
    "import matplotlib as mpl\n",
    "from qiskit.visualization import plot_histogram"
   ]
  },
  {
   "cell_type": "markdown",
   "id": "9429f1d3-c7b6-4146-aa73-5aab7899c253",
   "metadata": {},
   "source": [
    "# Driver Code"
   ]
  },
  {
   "cell_type": "code",
   "execution_count": null,
   "id": "b54c4845-ccb0-489a-bb2b-9f189861d1f0",
   "metadata": {
    "tags": []
   },
   "outputs": [],
   "source": [
    "puzzle = Nonogram(4, 4, [[4],[3],[3],[3]], [[3],[4],[4],[1,1]])\n",
    "solver = Quantum()\n",
    "# solver.solve(puzzle)\n",
    "runtime, result = measure_runtime(solver.solve(puzzle))\n",
    "puzzle.update(result)\n",
    "print(puzzle)\n",
    "print(f\"Solved in ${runtime}\")"
   ]
  },
  {
   "cell_type": "code",
   "execution_count": null,
   "id": "63de4df3-5af0-4d5e-b12f-f4a68dfc3cd2",
   "metadata": {
    "tags": []
   },
   "outputs": [],
   "source": [
    "# Define nonogram [size and clues]\n",
    "solutions = [\"0010\"] # Leave empty if unknown\n",
    "\n",
    "if not solutions or len(solutions) == 0:\n",
    "    num_solutions = 1 # Assumed\n",
    "else:\n",
    "    num_solutions = len(solutions) # Given\n",
    "\n",
    "# Make sure all rows/cols have a clue\n",
    "row_clues = [(1,),(0,),]\n",
    "rows = len(row_clues)\n",
    "\n",
    "col_clues = [(0,),(1,),]\n",
    "columns = len(col_clues)\n",
    "\n",
    "try:\n",
    "    validate(rows, columns, row_clues, col_clues)\n",
    "    \n",
    "    num_iterations = math.ceil(math.pi/4 * math.sqrt(2**(rows*columns)/num_solutions))\n",
    "    \n",
    "    oracle = boolean_phase_oracle(row_clues=row_clues,col_clues=col_clues,n=rows,d=columns)\n",
    "    problem = AmplificationProblem(oracle=oracle)\n",
    "    algorithm = Grover(iterations=num_iterations)\n",
    "    \n",
    "    circuit = algorithm.construct_circuit(problem)\n",
    "    circuit.measure_all()\n",
    "    print(circuit)\n",
    "    \n",
    "except Exception as e: \n",
    "    print(e)"
   ]
  },
  {
   "cell_type": "markdown",
   "id": "93dd4811-8346-45d0-a3bd-468bdd98f232",
   "metadata": {
    "tags": []
   },
   "source": [
    "## Results"
   ]
  }
 ],
 "metadata": {
  "kernelspec": {
   "display_name": "Python 3 (ipykernel)",
   "language": "python",
   "name": "python3"
  },
  "language_info": {
   "codemirror_mode": {
    "name": "ipython",
    "version": 3
   },
   "file_extension": ".py",
   "mimetype": "text/x-python",
   "name": "python",
   "nbconvert_exporter": "python",
   "pygments_lexer": "ipython3",
   "version": "3.11.2"
  }
 },
 "nbformat": 4,
 "nbformat_minor": 5
}
