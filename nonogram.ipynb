{
 "cells": [
  {
   "cell_type": "markdown",
   "id": "e1c1bf70-7f67-438a-b7ac-539165b60efc",
   "metadata": {
    "tags": []
   },
   "source": [
    "# Initialization"
   ]
  },
  {
   "cell_type": "code",
   "execution_count": 1,
   "id": "b8e43411-b431-4ed7-933f-dec33c84d7f2",
   "metadata": {},
   "outputs": [],
   "source": []
  },
  {
   "cell_type": "code",
   "execution_count": 2,
   "id": "826626ed-6c0d-4d7c-bd1d-9250b93f78a4",
   "metadata": {},
   "outputs": [],
   "source": []
  },
  {
   "cell_type": "code",
   "execution_count": 3,
   "id": "8fc45040-2f98-4a33-9b7b-113a2b6eb513",
   "metadata": {},
   "outputs": [],
   "source": []
  },
  {
   "cell_type": "code",
   "execution_count": 4,
   "id": "6d6686b9-3483-49fa-9d41-a14979041da4",
   "metadata": {
    "tags": []
   },
   "outputs": [],
   "source": [
    "import time\n",
    "import matplotlib.pyplot as plt\n",
    "import matplotlib as mpl\n",
    "from qiskit.visualization import plot_histogram"
   ]
  },
  {
   "cell_type": "markdown",
   "id": "9429f1d3-c7b6-4146-aa73-5aab7899c253",
   "metadata": {},
   "source": [
    "# Driver Code"
   ]
  },
  {
   "cell_type": "markdown",
   "id": "3cfd617f-1c3e-4ecc-bef6-53a3d06ff923",
   "metadata": {
    "tags": []
   },
   "source": [
    "## Random"
   ]
  },
  {
   "cell_type": "code",
   "execution_count": 5,
   "id": "b54c4845-ccb0-489a-bb2b-9f189861d1f0",
   "metadata": {
    "tags": []
   },
   "outputs": [],
   "source": [
    "rows = 3\n",
    "columns = 3\n",
    "\n",
    "builder = NonogramBuilder()\n",
    "random_nonogram = builder.with_size(rows,columns).build()"
   ]
  },
  {
   "cell_type": "code",
   "execution_count": 6,
   "id": "2ba3f05a-6b8c-4724-8992-17f1e7b4cf47",
   "metadata": {},
   "outputs": [
    {
     "data": {
      "text/plain": [
       "[[3], [<src.models.cell.Cell object at 0x7ff28a28e730>, <src.models.cell.Cell object at 0x7ff28a28e7f0>, <src.models.cell.Cell object at 0x7ff28a28e880>],\n",
       " [1, 1], [<src.models.cell.Cell object at 0x7ff28a28e700>, <src.models.cell.Cell object at 0x7ff28a28e9a0>, <src.models.cell.Cell object at 0x7ff28a28ea00>],\n",
       " [2], [<src.models.cell.Cell object at 0x7ff28a28e910>, <src.models.cell.Cell object at 0x7ff28a28eac0>, <src.models.cell.Cell object at 0x7ff28a28eb20>]]"
      ]
     },
     "execution_count": 6,
     "metadata": {},
     "output_type": "execute_result"
    }
   ],
   "source": [
    "random_nonogram.row_clues"
   ]
  },
  {
   "cell_type": "markdown",
   "id": "79e46bf2-ae98-45ad-a971-62a982f4a1da",
   "metadata": {
    "tags": []
   },
   "source": [
    "## From Clues"
   ]
  },
  {
   "cell_type": "code",
   "execution_count": 7,
   "id": "2e2bb8ba-f478-40ca-bfcb-c2c023be52c2",
   "metadata": {},
   "outputs": [],
   "source": [
    "# row_clues = [[2,2,2,1,1],[7,1,1,2],[4,8],[3,1,6],[1,5,3],[3,10],[3,2,3],[3,4],[12],[4,4,1],[4,1,4],[8,2],[1,2,1,2,1],[1,3,4,1],[1,4,2,3]]\n",
    "# col_clues = [[1,1,1],[2,2,2,1],[10,1],[12,1],[5,8],[1,2,1,5],[2,4,1,1,2],[1,1,2,1,1],[3,1,5],[1,2,1,2,1,2],[4,1,2,4],[2,1,4,2],[9,1,2],[7,3,1],[1,1,4,3,2]]\n",
    "\n",
    "# builder= NonogramBuilder()\n",
    "# clue_nonogram = builder.with_clues(row_clues, col_clues).build()"
   ]
  },
  {
   "cell_type": "markdown",
   "id": "65d2ff9b-a324-4291-9f49-723443bfbfca",
   "metadata": {
    "tags": []
   },
   "source": [
    "## From Board"
   ]
  },
  {
   "cell_type": "code",
   "execution_count": 8,
   "id": "7f8fcd09-5fd7-4ff2-a493-2d4b03e753d5",
   "metadata": {},
   "outputs": [],
   "source": [
    "# cells = [[True,False,True],[False,False,False],[True,False,False]]\n",
    "\n",
    "# builder = NonogramBuilder()\n",
    "# board_nonogram = builder.with_cells(cells).build()"
   ]
  },
  {
   "cell_type": "markdown",
   "id": "33ac4444-63e5-457b-8bea-aee2ee0bb47e",
   "metadata": {},
   "source": [
    "## Solvers"
   ]
  },
  {
   "cell_type": "code",
   "execution_count": 9,
   "id": "4348cb86-ab61-42cc-9e6d-0bcb958c192b",
   "metadata": {},
   "outputs": [
    {
     "name": "stdout",
     "output_type": "stream",
     "text": [
      "2.6.0\n",
      "Please wait, this may take a while\n",
      "init took 1.116783618927002 sec\n"
     ]
    }
   ],
   "source": [
    "q = Solver(random_nonogram, 'quantum' )"
   ]
  },
  {
   "cell_type": "code",
   "execution_count": 13,
   "id": "539d472b-9f73-4bfe-a96f-92528b863af8",
   "metadata": {},
   "outputs": [
    {
     "data": {
      "text/plain": [
       "BenchmarkMetrics(id=None, puzzle_size=3, algorithm='Quantum', steps=18, time=8.135762691497803)"
      ]
     },
     "execution_count": 13,
     "metadata": {},
     "output_type": "execute_result"
    }
   ],
   "source": [
    "from src.benchmarking.benchmark import TimeBenchmark\n",
    "b = TimeBenchmark(q)\n",
    "b.run()"
   ]
  },
  {
   "cell_type": "code",
   "execution_count": 11,
   "id": "c01e6f85-bf23-49dd-8122-937956a78663",
   "metadata": {},
   "outputs": [],
   "source": [
    "c = Solver(random_nonogram, 'classical')\n",
    "b2 = TimeBenchmark(c)"
   ]
  },
  {
   "cell_type": "code",
   "execution_count": 12,
   "id": "f99209e4-00ec-4431-bf89-181b65530fdb",
   "metadata": {},
   "outputs": [
    {
     "data": {
      "text/plain": [
       "BenchmarkMetrics(id=None, puzzle_size=3, algorithm='Classical', steps=512, time=0.007057666778564453)"
      ]
     },
     "execution_count": 12,
     "metadata": {},
     "output_type": "execute_result"
    }
   ],
   "source": [
    "b2.run()"
   ]
  },
  {
   "cell_type": "code",
   "execution_count": null,
   "id": "2d46d2b6-e459-423e-8b54-40080cf9a400",
   "metadata": {},
   "outputs": [],
   "source": []
  },
  {
   "cell_type": "code",
   "execution_count": null,
   "id": "7f8e1c9e-3aee-493d-8b11-6cc2be6100c2",
   "metadata": {},
   "outputs": [
    {
     "name": "stdout",
     "output_type": "stream",
     "text": [
      "2.6.0\n",
      "Please wait, this may take a while\n",
      "init for 1x3 took 0.015017271041870117\n",
      "BenchmarkMetrics(id=None, puzzle_size=1, algorithm='Quantum', steps=3, time=0.03503561019897461)\n",
      "2.6.0\n",
      "Please wait, this may take a while\n",
      "init for 2x3 took 0.15312910079956055\n",
      "BenchmarkMetrics(id=None, puzzle_size=2, algorithm='Quantum', steps=7, time=0.6354176998138428)\n",
      "2.6.0\n",
      "Please wait, this may take a while\n",
      "init for 3x3 took 2.5593223571777344\n",
      "BenchmarkMetrics(id=None, puzzle_size=3, algorithm='Quantum', steps=18, time=17.618253231048584)\n",
      "2.6.0\n",
      "Please wait, this may take a while\n",
      "init for 4x3 took 29.645851612091064\n",
      "BenchmarkMetrics(id=None, puzzle_size=4, algorithm='Quantum', steps=51, time=229.35010075569153)\n",
      "2.6.0\n",
      "Please wait, this may take a while\n",
      "init for 1x4 took 0.020624637603759766\n",
      "BenchmarkMetrics(id=None, puzzle_size=1, algorithm='Quantum', steps=4, time=0.19279694557189941)\n",
      "2.6.0\n",
      "Please wait, this may take a while\n",
      "init for 2x4 took 0.356433629989624\n",
      "BenchmarkMetrics(id=None, puzzle_size=2, algorithm='Quantum', steps=13, time=2.7701237201690674)\n",
      "2.6.0\n",
      "Please wait, this may take a while\n",
      "init for 3x4 took 59.8215069770813\n",
      "BenchmarkMetrics(id=None, puzzle_size=3, algorithm='Quantum', steps=51, time=491.33309745788574)\n",
      "2.6.0\n",
      "Please wait, this may take a while\n",
      "init for 4x4 took 7804.241261005402\n"
     ]
    }
   ],
   "source": [
    "from src.benchmarking.benchmark import TimeBenchmark\n",
    "from src.models.nonogrambuilder import NonogramBuilder\n",
    "from src.algs.solver import Solver\n",
    "import time\n",
    "for columns in range(3,5):\n",
    "    for rows in range(1,5):\n",
    "        builder = NonogramBuilder()\n",
    "        random_nonogram = builder.with_size(rows,columns).build()\n",
    "        start = time.time()\n",
    "        q = Solver(random_nonogram, 'quantum' )\n",
    "        print(f\"init for {rows}x{columns} took {time.time() - start}\")\n",
    "        b = TimeBenchmark(q)\n",
    "        print(b.run())"
   ]
  }
 ],
 "metadata": {
  "kernelspec": {
   "display_name": "Python 3 (ipykernel)",
   "language": "python",
   "name": "python3"
  },
  "language_info": {
   "codemirror_mode": {
    "name": "ipython",
    "version": 3
   },
   "file_extension": ".py",
   "mimetype": "text/x-python",
   "name": "python",
   "nbconvert_exporter": "python",
   "pygments_lexer": "ipython3",
   "version": "3.8.16"
  }
 },
 "nbformat": 4,
 "nbformat_minor": 5
}
